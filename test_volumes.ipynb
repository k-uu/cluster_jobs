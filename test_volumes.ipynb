{
 "cells": [
  {
   "cell_type": "code",
   "execution_count": 2,
   "metadata": {},
   "outputs": [
    {
     "name": "stderr",
     "output_type": "stream",
     "text": [
      "/Users/ob/Desktop/Intro_DS/exercises/envs/lib/python3.12/site-packages/sentence_transformers/cross_encoder/CrossEncoder.py:13: TqdmExperimentalWarning: Using `tqdm.autonotebook.tqdm` in notebook mode. Use `tqdm.tqdm` instead to force console mode (e.g. in jupyter console)\n",
      "  from tqdm.autonotebook import tqdm, trange\n",
      "/Users/ob/Desktop/Intro_DS/exercises/envs/lib/python3.12/site-packages/sklearn/base.py:376: InconsistentVersionWarning: Trying to unpickle estimator KNeighborsClassifier from version 1.5.2 when using version 1.5.1. This might lead to breaking code or invalid results. Use at your own risk. For more info please refer to:\n",
      "https://scikit-learn.org/stable/model_persistence.html#security-maintainability-limitations\n",
      "  warnings.warn(\n"
     ]
    },
    {
     "data": {
      "application/vnd.jupyter.widget-view+json": {
       "model_id": "e378b6c4eba94f169de6c3c6e9a89985",
       "version_major": 2,
       "version_minor": 0
      },
      "text/plain": [
       "modules.json:   0%|          | 0.00/349 [00:00<?, ?B/s]"
      ]
     },
     "metadata": {},
     "output_type": "display_data"
    },
    {
     "data": {
      "application/vnd.jupyter.widget-view+json": {
       "model_id": "198b4641509046cdb82afd095de15c4a",
       "version_major": 2,
       "version_minor": 0
      },
      "text/plain": [
       "config_sentence_transformers.json:   0%|          | 0.00/116 [00:00<?, ?B/s]"
      ]
     },
     "metadata": {},
     "output_type": "display_data"
    },
    {
     "data": {
      "application/vnd.jupyter.widget-view+json": {
       "model_id": "23d82b5c841e40cbaf1a61a99a9242c9",
       "version_major": 2,
       "version_minor": 0
      },
      "text/plain": [
       "README.md:   0%|          | 0.00/10.6k [00:00<?, ?B/s]"
      ]
     },
     "metadata": {},
     "output_type": "display_data"
    },
    {
     "data": {
      "application/vnd.jupyter.widget-view+json": {
       "model_id": "b081e4da0e9744a085aa0094d32ff4e9",
       "version_major": 2,
       "version_minor": 0
      },
      "text/plain": [
       "sentence_bert_config.json:   0%|          | 0.00/53.0 [00:00<?, ?B/s]"
      ]
     },
     "metadata": {},
     "output_type": "display_data"
    },
    {
     "data": {
      "application/vnd.jupyter.widget-view+json": {
       "model_id": "ae97c8f83e3845ea9a64d5b87483060c",
       "version_major": 2,
       "version_minor": 0
      },
      "text/plain": [
       "config.json:   0%|          | 0.00/571 [00:00<?, ?B/s]"
      ]
     },
     "metadata": {},
     "output_type": "display_data"
    },
    {
     "data": {
      "application/vnd.jupyter.widget-view+json": {
       "model_id": "149f9f0da3bb4d8bb406f6db268c41f7",
       "version_major": 2,
       "version_minor": 0
      },
      "text/plain": [
       "model.safetensors:   0%|          | 0.00/438M [00:00<?, ?B/s]"
      ]
     },
     "metadata": {},
     "output_type": "display_data"
    },
    {
     "data": {
      "application/vnd.jupyter.widget-view+json": {
       "model_id": "73b58c4d27584747a2eae0b9c8533feb",
       "version_major": 2,
       "version_minor": 0
      },
      "text/plain": [
       "tokenizer_config.json:   0%|          | 0.00/363 [00:00<?, ?B/s]"
      ]
     },
     "metadata": {},
     "output_type": "display_data"
    },
    {
     "data": {
      "application/vnd.jupyter.widget-view+json": {
       "model_id": "d6c38691d5e24abfa8ba8057a712698c",
       "version_major": 2,
       "version_minor": 0
      },
      "text/plain": [
       "vocab.txt:   0%|          | 0.00/232k [00:00<?, ?B/s]"
      ]
     },
     "metadata": {},
     "output_type": "display_data"
    },
    {
     "data": {
      "application/vnd.jupyter.widget-view+json": {
       "model_id": "4354ea4eab37486bbd7b7e10ceaa46ef",
       "version_major": 2,
       "version_minor": 0
      },
      "text/plain": [
       "tokenizer.json:   0%|          | 0.00/466k [00:00<?, ?B/s]"
      ]
     },
     "metadata": {},
     "output_type": "display_data"
    },
    {
     "data": {
      "application/vnd.jupyter.widget-view+json": {
       "model_id": "85399eec0cc748d6858dc8cca1153447",
       "version_major": 2,
       "version_minor": 0
      },
      "text/plain": [
       "special_tokens_map.json:   0%|          | 0.00/239 [00:00<?, ?B/s]"
      ]
     },
     "metadata": {},
     "output_type": "display_data"
    },
    {
     "data": {
      "application/vnd.jupyter.widget-view+json": {
       "model_id": "328ee7d2c8944e6886cfb6fbb36c3e4b",
       "version_major": 2,
       "version_minor": 0
      },
      "text/plain": [
       "1_Pooling/config.json:   0%|          | 0.00/190 [00:00<?, ?B/s]"
      ]
     },
     "metadata": {},
     "output_type": "display_data"
    }
   ],
   "source": [
    "import dash\n",
    "from dash import dcc, html\n",
    "from dash.dependencies import Input, Output, State, ALL\n",
    "import numpy as np\n",
    "import plotly.graph_objects as go\n",
    "from scipy.spatial import ConvexHull\n",
    "\n",
    "import pandas as pd\n",
    "import matplotlib.pyplot as plt\n",
    "import json\n",
    "\n",
    "from helpers import fill_template, read_config, read_json\n",
    "from inference import KnnClassifier\n",
    "\n",
    "user_x, user_y = [0.5, 0, 0], 2\n",
    "\n",
    "df = pd.read_csv(\"./data/roles_coordinates_tsne.csv\",index_col=0)\n",
    "\n",
    "X = df[[\"x\",\"y\",\"z\"]].values\n",
    "\n",
    "labels = df[\"role_id\"].values\n",
    "\n",
    "representatives = np.unique(labels)\n",
    "\n",
    "config = read_config()\n",
    "model = KnnClassifier(config)\n",
    "rol_to_id_dict = read_json(\"./data/role_to_id.json\")\n",
    "\n"
   ]
  },
  {
   "cell_type": "code",
   "execution_count": 3,
   "metadata": {},
   "outputs": [],
   "source": [
    "with open('./data/suggestions.json', 'r') as f:\n",
    "    form_dict = json.load(f)\n",
    "\n",
    "## create a Div for each dropdown from the key and list of values from \n",
    "def group_from_json(key, values):\n",
    "    return html.Div([\n",
    "                html.Label(f\"{key}:\"),\n",
    "                dcc.Dropdown(id={'type': 'input-field', 'key': key}, \n",
    "                             options=[{'label': option, 'value': option} for option in values], multi=True,),\n",
    "                    ], className='form-group')\n",
    "\n",
    "divs = [group_from_json(key, values) for key, values in form_dict.items()]\n",
    "form = html.Div(divs, className='form-container')"
   ]
  },
  {
   "cell_type": "code",
   "execution_count": 6,
   "metadata": {},
   "outputs": [
    {
     "data": {
      "text/html": [
       "\n",
       "        <iframe\n",
       "            width=\"100%\"\n",
       "            height=\"650\"\n",
       "            src=\"http://127.0.0.1:8080/\"\n",
       "            frameborder=\"0\"\n",
       "            allowfullscreen\n",
       "            \n",
       "        ></iframe>\n",
       "        "
      ],
      "text/plain": [
       "<IPython.lib.display.IFrame at 0x169148bf0>"
      ]
     },
     "metadata": {},
     "output_type": "display_data"
    },
    {
     "name": "stdout",
     "output_type": "stream",
     "text": [
      "Template is:  We are seeking a professional with Bachelor's degree, possessing Analytical skills and HTML. This role requires the ability to Work independently, with excellent Effective strategic problem solving. Familiarity with Legal and Government Relations, and the capability to Optimize program delivery is preferred.\n"
     ]
    },
    {
     "data": {
      "application/vnd.jupyter.widget-view+json": {
       "model_id": "6348955d04f84e1199137237fbc301e2",
       "version_major": 2,
       "version_minor": 0
      },
      "text/plain": [
       "Batches:   0%|          | 0/1 [00:00<?, ?it/s]"
      ]
     },
     "metadata": {},
     "output_type": "display_data"
    },
    {
     "name": "stdout",
     "output_type": "stream",
     "text": [
      "label is: Legal & Government Relations and corresponding encoding is: 9\n",
      "Template is:  We are seeking a professional with Bachelor's degree, possessing Analytical skills and HTML. This role requires the ability to Work independently, with excellent Effective strategic problem solving. Familiarity with Legal and Government Relations, and the capability to Optimize program delivery is preferred.\n"
     ]
    },
    {
     "data": {
      "application/vnd.jupyter.widget-view+json": {
       "model_id": "ce2f8db551ec4f68a7afea8326c916f9",
       "version_major": 2,
       "version_minor": 0
      },
      "text/plain": [
       "Batches:   0%|          | 0/1 [00:00<?, ?it/s]"
      ]
     },
     "metadata": {},
     "output_type": "display_data"
    },
    {
     "name": "stdout",
     "output_type": "stream",
     "text": [
      "label is: Legal & Government Relations and corresponding encoding is: 9\n"
     ]
    }
   ],
   "source": [
    "\n",
    "# Create the Dash app\n",
    "app = dash.Dash(__name__)\n",
    "\n",
    "# Target Color\n",
    "c_target = \"red\"\n",
    "\n",
    "# Create a 3D-hull scatter plot given covariates X (n x 3) and labels y (n x 1)\n",
    "def create_figure(X, y, repr, p_x, p_y):\n",
    "\n",
    "    # Array containing all the clusters and their convex hulls\n",
    "    layers = []\n",
    "\n",
    "    unique_labels = np.unique(y)\n",
    "\n",
    "    k = len(unique_labels)\n",
    "\n",
    "    color_palette = plt.get_cmap(\"Greys\")(np.linspace(0.2, 0.8, k))  # Using colormap from Matplotlib\n",
    "    colors = [f'rgba({int(c[0] * 255)}, {int(c[1] * 255)}, {int(c[2] * 255)}, {c[3]})' for c in color_palette]\n",
    "    \n",
    "    # Do not plot the marker on initialization\n",
    "    if p_x:\n",
    "        user_point = go.Scatter3d(\n",
    "                    x=[p_x[0]], y=[p_x[1]], z=[p_x[2]], \n",
    "                    mode='markers', \n",
    "                    marker=dict(\n",
    "                        size=10,\n",
    "                        color=c_target,\n",
    "                        symbol='cross'),\n",
    "                    name=f'Label {repr[p_y]}',\n",
    "                    legendgroup=f'Label {repr[p_y]}',\n",
    "                    showlegend=False,\n",
    "                )\n",
    "        layers.append(user_point)\n",
    "\n",
    "    # Create scatter plots and convex hull volumes for each label in y\n",
    "    for label in unique_labels:\n",
    "\n",
    "        # greyscale or label color\n",
    "        if label == p_y:\n",
    "            c_val = c_target\n",
    "        else:\n",
    "            c_val = colors[label]\n",
    "\n",
    "        # select rows with corresponding label\n",
    "        X_k = X[y==label]\n",
    "\n",
    "        # Compute the convex hull for this group if it has enough points\n",
    "        if X_k.shape[0] >= 6:\n",
    "            hull = ConvexHull(X_k)\n",
    "\n",
    "            x_c, y_c, z_c  = X_k[:,0], X_k[:,1], X_k[:,2] \n",
    "\n",
    "            # Scatter plot for points\n",
    "            scatter = go.Scatter3d(\n",
    "                x=x_c, y=y_c, z=z_c, \n",
    "                mode='markers', \n",
    "                marker=dict(size=4, color=c_val, opacity=1),\n",
    "                name=f'Label {label}',\n",
    "                legendgroup=f'Label {label}',\n",
    "                showlegend=False,\n",
    "            )\n",
    "            layers.append(scatter)\n",
    "\n",
    "            # # Mesh3d for convex hull\n",
    "            # mesh = go.Mesh3d(\n",
    "            #     x=x_c,\n",
    "            #     y=y_c,\n",
    "            #     z=z_c,\n",
    "            #     i=hull.simplices[:, 0],\n",
    "            #     j=hull.simplices[:, 1],\n",
    "            #     k=hull.simplices[:, 2],\n",
    "            #     opacity=0.3,\n",
    "            #     color=colors[label],\n",
    "            #     hoverinfo='text',\n",
    "            #     hovertext=f'{repr[label]}',\n",
    "            #     name=f'Hull {label}',\n",
    "            #     legendgroup=f'Hull {label}'\n",
    "            # )\n",
    "            # layers.append(mesh)\n",
    "\n",
    "    # Create figure\n",
    "    fig = go.Figure(data=layers)\n",
    "    fig.update_layout(plot_bgcolor='lightblue',\n",
    "                      paper_bgcolor='lightgrey',\n",
    "                      scene=dict(aspectmode='data',\n",
    "                                xaxis=dict(visible=False),\n",
    "                                yaxis=dict(visible=False),\n",
    "                                zaxis=dict(visible=False)),\n",
    "                      title=\"Job Space\",\n",
    "                    )\n",
    "\n",
    "    return fig\n",
    "\n",
    "# Layout of the app\n",
    "app.layout = html.Div([\n",
    "    form,\n",
    "    html.Button('Submit', id='submit-button', n_clicks=0),\n",
    "    dcc.Graph(id='3d-scatter', figure=create_figure(X, labels, representatives, None, None)),\n",
    "])\n",
    "\n",
    "@app.callback(\n",
    "    Output('3d-scatter', 'figure'),\n",
    "    Input('submit-button', 'n_clicks'),\n",
    "    # capture the input key-value pairs\n",
    "    State({'type': 'input-field', 'key': ALL}, 'value'),\n",
    "    State({'type': 'input-field', 'key': ALL}, 'id'),\n",
    "    State('3d-scatter', 'figure'),\n",
    "    prevent_initial_call=True,\n",
    ")\n",
    "def update_output(n_clicks, input_values, input_ids, prev_fig):\n",
    "    if n_clicks > 0:\n",
    "        if None not in input_values:\n",
    "            # Create a dictionary to hold form data based on the pattern-matched input fields\n",
    "            form_data = {input_id['key']: value for input_id, value in zip(input_ids, input_values)}\n",
    "\n",
    "            # Convert to JSON format\n",
    "            json_output = json.dumps(form_data, indent=4)\n",
    "            \n",
    "            # generate template using json_output\n",
    "            template = fill_template(input_dict=json_output)\n",
    "            print(\"Template is: \", template)\n",
    "            # template_corrdinates, X = get_corrdinates(template) \n",
    "            label = model.predict(template)\n",
    "            user_y = rol_to_id_dict.get(label, None)\n",
    "            print(f\"label is: {label} and corresponding encoding is: {user_y}\")\n",
    "            # use template to generate embeddings (user_x) and predict label (user_y)\n",
    "            # also generate X with reduced dimensions given the user input\n",
    "\n",
    "            fig = create_figure(X, labels, representatives, user_x, user_y)\n",
    "        else:\n",
    "            fig = prev_fig\n",
    "\n",
    "        return fig\n",
    "\n",
    "\n",
    "\n",
    "# Run the app\n",
    "if __name__ == '__main__':\n",
    "    app.run_server(debug=True, port=8080)\n"
   ]
  },
  {
   "cell_type": "code",
   "execution_count": null,
   "metadata": {},
   "outputs": [],
   "source": []
  },
  {
   "cell_type": "code",
   "execution_count": null,
   "metadata": {},
   "outputs": [],
   "source": []
  }
 ],
 "metadata": {
  "kernelspec": {
   "display_name": "proje-env",
   "language": "python",
   "name": "python3"
  },
  "language_info": {
   "codemirror_mode": {
    "name": "ipython",
    "version": 3
   },
   "file_extension": ".py",
   "mimetype": "text/x-python",
   "name": "python",
   "nbconvert_exporter": "python",
   "pygments_lexer": "ipython3",
   "version": "3.12.5"
  }
 },
 "nbformat": 4,
 "nbformat_minor": 2
}
