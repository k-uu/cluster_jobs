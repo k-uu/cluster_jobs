{
 "cells": [
  {
   "cell_type": "code",
   "execution_count": 5,
   "metadata": {},
   "outputs": [],
   "source": [
    "import dash\n",
    "from dash import dcc, html\n",
    "from dash.dependencies import Input, Output\n",
    "import numpy as np\n",
    "import plotly.graph_objects as go\n",
    "from scipy.spatial import ConvexHull\n",
    "import pandas as pd\n",
    "\n",
    "# Generate random 3D points with labels\n",
    "np.random.seed(42)\n",
    "x = np.random.randn(100)\n",
    "y = np.random.randn(100)\n",
    "z = np.random.randn(100)\n",
    "\n",
    "# Assign random labels\n",
    "labels = np.random.choice([0, 1, 2, 3], size=100)\n",
    "\n",
    "# df = pd.DataFrame(np.append(np.random.randn(100,3), labels), columns=[\"x\",\"y\",\"z\",\"label\"])\n",
    "df = pd.DataFrame(np.random.randn(100,3), columns=[\"x\", \"y\", \"z\"])\n",
    "\n",
    "X = df.values\n",
    "\n",
    "df[\"label\"] = labels\n"
   ]
  },
  {
   "cell_type": "code",
   "execution_count": 4,
   "metadata": {},
   "outputs": [
    {
     "data": {
      "text/html": [
       "\n",
       "        <iframe\n",
       "            width=\"100%\"\n",
       "            height=\"650\"\n",
       "            src=\"http://127.0.0.1:8050/\"\n",
       "            frameborder=\"0\"\n",
       "            allowfullscreen\n",
       "            \n",
       "        ></iframe>\n",
       "        "
      ],
      "text/plain": [
       "<IPython.lib.display.IFrame at 0x127fd9670>"
      ]
     },
     "metadata": {},
     "output_type": "display_data"
    }
   ],
   "source": [
    "# Colors for the groups\n",
    "colors = ['lightblue', 'lightgreen', 'lightpink', 'red']\n",
    "\n",
    "# Create the Dash app\n",
    "app = dash.Dash(__name__)\n",
    "\n",
    "# Create a 3D-hull scatter plot given covariates X (n x 3) and labels y (n x 1)\n",
    "def create_figure(X, y):\n",
    "\n",
    "    # Array containing all the clusters and their convex hulls\n",
    "    layers = []\n",
    "    \n",
    "    # Create scatter plots and convex hull volumes for each label in y\n",
    "    for label in np.unique(y):\n",
    "        \n",
    "        # select rows with corresponding label\n",
    "        X_k = X[y==label]\n",
    "\n",
    "        # Compute the convex hull for this group if it has enough points\n",
    "        if X_k.shape[0] >= 4:\n",
    "            hull = ConvexHull(X_k)\n",
    "\n",
    "            x_c, y_c, z_c  = X_k[:,0], X_k[:,1], X_k[:,2] \n",
    "\n",
    "            # Scatter plot for points\n",
    "            scatter = go.Scatter3d(\n",
    "                x=x_c, y=y_c, z=z_c, \n",
    "                mode='markers', \n",
    "                marker=dict(size=5, color=colors[label], opacity=0.8),\n",
    "                name=f'Label {label}',\n",
    "                legendgroup=f'Label {label}',\n",
    "                showlegend=False,\n",
    "            )\n",
    "            layers.append(scatter)\n",
    "\n",
    "            # Mesh3d for convex hull\n",
    "            mesh = go.Mesh3d(\n",
    "                x=x_c,\n",
    "                y=y_c,\n",
    "                z=z_c,\n",
    "                i=hull.simplices[:, 0],\n",
    "                j=hull.simplices[:, 1],\n",
    "                k=hull.simplices[:, 2],\n",
    "                opacity=0.3,\n",
    "                color=colors[label],\n",
    "                hoverinfo='text',\n",
    "                hovertext=f'Hull enclosing Label {label} points',\n",
    "                name=f'Hull {label}',\n",
    "                legendgroup=f'Hull {label}'\n",
    "            )\n",
    "            layers.append(mesh)\n",
    "\n",
    "    # Create figure\n",
    "    fig = go.Figure(data=layers)\n",
    "    fig.update_layout(plot_bgcolor='lightblue',\n",
    "                      paper_bgcolor='darkgray',\n",
    "                      scene=dict(aspectmode='data',\n",
    "                                xaxis=dict(visible=False),\n",
    "                                yaxis=dict(visible=False),\n",
    "                                zaxis=dict(visible=False)),\n",
    "                      title=\"Job Space\",\n",
    "                    )\n",
    "\n",
    "    return fig\n",
    "\n",
    "# Layout of the app\n",
    "app.layout = html.Div([\n",
    "    dcc.Graph(id='3d-scatter', figure=create_figure(X, labels)),\n",
    "])\n",
    "\n",
    "# Run the app\n",
    "if __name__ == '__main__':\n",
    "    app.run_server(debug=True)\n"
   ]
  }
 ],
 "metadata": {
  "kernelspec": {
   "display_name": "Python 3",
   "language": "python",
   "name": "python3"
  },
  "language_info": {
   "codemirror_mode": {
    "name": "ipython",
    "version": 3
   },
   "file_extension": ".py",
   "mimetype": "text/x-python",
   "name": "python",
   "nbconvert_exporter": "python",
   "pygments_lexer": "ipython3",
   "version": "3.12.4"
  }
 },
 "nbformat": 4,
 "nbformat_minor": 2
}
