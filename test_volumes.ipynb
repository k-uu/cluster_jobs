{
 "cells": [
  {
   "cell_type": "code",
   "execution_count": 1,
   "metadata": {},
   "outputs": [
    {
     "name": "stderr",
     "output_type": "stream",
     "text": [
      "/Users/ob/Desktop/Intro_DS/exercises/envs/lib/python3.12/site-packages/sentence_transformers/cross_encoder/CrossEncoder.py:13: TqdmExperimentalWarning: Using `tqdm.autonotebook.tqdm` in notebook mode. Use `tqdm.tqdm` instead to force console mode (e.g. in jupyter console)\n",
      "  from tqdm.autonotebook import tqdm, trange\n",
      "/Users/ob/Desktop/Intro_DS/exercises/envs/lib/python3.12/site-packages/sklearn/base.py:376: InconsistentVersionWarning: Trying to unpickle estimator KNeighborsClassifier from version 1.5.2 when using version 1.5.1. This might lead to breaking code or invalid results. Use at your own risk. For more info please refer to:\n",
      "https://scikit-learn.org/stable/model_persistence.html#security-maintainability-limitations\n",
      "  warnings.warn(\n"
     ]
    },
    {
     "data": {
      "application/vnd.jupyter.widget-view+json": {
       "model_id": "b3b4dfcb682d4658be3283505df5b517",
       "version_major": 2,
       "version_minor": 0
      },
      "text/plain": [
       "Batches:   0%|          | 0/39 [00:00<?, ?it/s]"
      ]
     },
     "metadata": {},
     "output_type": "display_data"
    },
    {
     "name": "stdout",
     "output_type": "stream",
     "text": [
      "Dimensionality Reduction with mde took: 19.183830976486206\n"
     ]
    }
   ],
   "source": [
    "import dash\n",
    "from dash import dcc, html\n",
    "from dash.dependencies import Input, Output, State, ALL\n",
    "import numpy as np\n",
    "import plotly.graph_objects as go\n",
    "\n",
    "import matplotlib.pyplot as plt\n",
    "import json\n",
    "\n",
    "from helpers import fill_template, read_config, read_json\n",
    "from inference import KnnClassifier\n",
    "\n",
    "# user_x, user_y = [0.5, 0, 0], 2\n",
    "\n",
    "\n",
    "config = read_config()\n",
    "model = KnnClassifier( visualization_method = \"mde\", config = config )\n",
    "model.embedder.get_embeddings ## Compute the roles embeddings if not already in embeddings.txt file.\n",
    "df = model.embedder.get_initial_corrdinates()\n",
    "X = df[[\"x\",\"y\",\"z\"]].values\n",
    "labels = df[\"role_id\"].values\n",
    "rol_to_id_dict = read_json(\"./data/role_to_id.json\")\n",
    "id_to_rol_dict =  dict((v,k) for k,v in rol_to_id_dict.items())"
   ]
  },
  {
   "cell_type": "code",
   "execution_count": 5,
   "metadata": {},
   "outputs": [],
   "source": [
    "with open('./data/suggestions.json', 'r') as f:\n",
    "    form_dict = json.load(f)\n",
    "\n",
    "## create a Div for each dropdown from the key and list of values from \n",
    "def group_from_json(key, values):\n",
    "    return html.Div([\n",
    "                html.Label(f\"{key}:\"),\n",
    "                dcc.Dropdown(id={'type': 'input-field', 'key': key}, \n",
    "                             options=[{'label': option, 'value': option} for option in values], multi=True, value=values[0]),\n",
    "                    ], className='form-group')\n",
    "\n",
    "divs = [group_from_json(key, values) for key, values in form_dict.items()]\n",
    "form = html.Div(divs, className='form-container')"
   ]
  },
  {
   "cell_type": "code",
   "execution_count": 58,
   "metadata": {},
   "outputs": [
    {
     "data": {
      "text/html": [
       "\n",
       "        <iframe\n",
       "            width=\"100%\"\n",
       "            height=\"650\"\n",
       "            src=\"http://127.0.0.1:8080/\"\n",
       "            frameborder=\"0\"\n",
       "            allowfullscreen\n",
       "            \n",
       "        ></iframe>\n",
       "        "
      ],
      "text/plain": [
       "<IPython.lib.display.IFrame at 0x31af67710>"
      ]
     },
     "metadata": {},
     "output_type": "display_data"
    }
   ],
   "source": [
    "\n",
    "# Create the Dash app\n",
    "app = dash.Dash(__name__)\n",
    "\n",
    "# User point params\n",
    "c_user =\"#b9a909\"\n",
    "# prediction params\n",
    "c_pred = \"#09b9a9\"\n",
    "opac_pred = 1\n",
    "# default params\n",
    "opac_def = 0.75\n",
    "\n",
    "\n",
    "# Create a scatter plot given covariates X (n x 3) and labels y (n x 1)\n",
    "def create_figure(X, y, id_to_rol_dict, p_x, p_y):\n",
    "\n",
    "    # Array containing all the clusters and the user point\n",
    "    layers = []\n",
    "\n",
    "    # unique_labels = np.unique(y)\n",
    "    unique_labels = id_to_rol_dict.keys()\n",
    "\n",
    "    \n",
    "\n",
    "\n",
    "    k = len(unique_labels)\n",
    "\n",
    "    color_palette = plt.get_cmap(\"Greys\")(np.linspace(0.2, 0.8, k))  # Using colormap from Matplotlib\n",
    "    colors = [f'rgba({int(c[0] * 255)}, {int(c[1] * 255)}, {int(c[2] * 255)}, {c[3]})' for c in color_palette]\n",
    "    \n",
    "    # Do not plot the user point on initialization\n",
    "    if p_x is not None:\n",
    "\n",
    "        user_point = go.Scatter3d(\n",
    "                    x=[p_x[0]], y=[p_x[1]], z=[p_x[2]], \n",
    "                    mode='markers', \n",
    "                    marker=dict(\n",
    "                        size=10,\n",
    "                        color=c_user,\n",
    "                        symbol='cross'\n",
    "                        ),\n",
    "                    name=id_to_rol_dict[p_y],\n",
    "                    text=\"Predicted Job:\",\n",
    "                    hovertemplate='<b>%{fullData.text}</b><br>%{fullData.name}<extra></extra>',\n",
    "                    showlegend=False,\n",
    "                )\n",
    "        layers.append(user_point)\n",
    "\n",
    "    # Create color-grouped scatter plots for each label in y\n",
    "    for label in unique_labels:\n",
    "\n",
    "        # select rows with corresponding label\n",
    "        X_k = X[y==label]\n",
    "\n",
    "        x_c, y_c, z_c  = X_k[:,0], X_k[:,1], X_k[:,2] \n",
    "\n",
    "        # default or prediction color\n",
    "        if label == p_y:\n",
    "            c_val = c_pred\n",
    "            opac = opac_pred\n",
    "        else:\n",
    "            c_val = colors[label]\n",
    "            opac = opac_def\n",
    "\n",
    "        # Scatter plot for points\n",
    "        scatter = go.Scatter3d(\n",
    "            x=x_c, y=y_c, z=z_c, \n",
    "            mode='markers', \n",
    "            marker=dict(size=4, color=c_val, opacity=opac),\n",
    "            name=id_to_rol_dict[label],\n",
    "            text=\"test\",\n",
    "            hovertemplate='<b>%{fullData.name}</b><br>%{fullData.text}<extra></extra>',\n",
    "            legendgroup=id_to_rol_dict[label],\n",
    "            showlegend=False,\n",
    "        )\n",
    "        layers.append(scatter)\n",
    "\n",
    "    # Create figure\n",
    "    fig = go.Figure(data=layers)\n",
    "    fig.update_layout(paper_bgcolor='white',\n",
    "                      scene=dict(aspectmode='data',\n",
    "                                xaxis=dict(visible=False),\n",
    "                                yaxis=dict(visible=False),\n",
    "                                zaxis=dict(visible=False)),\n",
    "                      title=\"Job Space\",\n",
    "                    )\n",
    "\n",
    "    return fig\n",
    "\n",
    "# Layout of the app\n",
    "app.layout = html.Div([\n",
    "    form,\n",
    "    html.Button('Submit', id='submit-button', n_clicks=0),\n",
    "    dcc.Graph(id='3d-scatter', figure=create_figure(X, labels, id_to_rol_dict, None, None)),\n",
    "])\n",
    "\n",
    "@app.callback(\n",
    "    Output('3d-scatter', 'figure'),\n",
    "    Input('submit-button', 'n_clicks'),\n",
    "    # capture the input key-value pairs\n",
    "    State({'type': 'input-field', 'key': ALL}, 'value'),\n",
    "    State({'type': 'input-field', 'key': ALL}, 'id'),\n",
    "    State('3d-scatter', 'figure'),\n",
    "    prevent_initial_call=True,\n",
    ")\n",
    "def update_output(n_clicks, input_values, input_ids, prev_fig):\n",
    "    if n_clicks > 0:\n",
    "        if None not in input_values:\n",
    "            # Create a dictionary to hold form data based on the pattern-matched input fields\n",
    "            form_data = {input_id['key']: value for input_id, value in zip(input_ids, input_values)}\n",
    "\n",
    "            # Convert to JSON format\n",
    "            json_output = json.dumps(form_data, indent=4)\n",
    "            \n",
    "            # generate template using json_output\n",
    "            template = fill_template(input_dict=json_output)\n",
    "            template_embedding = model.embedder.encode([template])\n",
    "            X, user_x = model.embedder.get_corrdinates(template_embedding) \n",
    "            label = model.predict(template_embedding)\n",
    "            user_y = model.embedder.rol_to_id_dict.get(label, None)\n",
    "            print(f\"label is: {label} and corresponding encoding is: {user_y}\")\n",
    "            # use template to generate embeddings (user_x) and predict label (user_y)\n",
    "            # also generate X with reduced dimensions given the user input\n",
    "\n",
    "            fig = create_figure(X, labels, id_to_rol_dict, user_x, user_y)\n",
    "        else:\n",
    "            fig = prev_fig\n",
    "\n",
    "        return fig\n",
    "\n",
    "\n",
    "\n",
    "# Run the app\n",
    "if __name__ == '__main__':\n",
    "    app.run_server(debug=True, port=8080)\n"
   ]
  },
  {
   "cell_type": "code",
   "execution_count": 47,
   "metadata": {},
   "outputs": [
    {
     "data": {
      "text/plain": [
       "[0.6339745962155614,\n",
       " 0.6339745962155614,\n",
       " 0.6339745962155614,\n",
       " 0.6339745962155614,\n",
       " 0.6339745962155614]"
      ]
     },
     "execution_count": 47,
     "metadata": {},
     "output_type": "execute_result"
    }
   ],
   "source": [
    "p_x = [2, 2, 2]\n",
    "\n",
    "X_k = np.ones((5,3))\n",
    "\n",
    "[map_opacity(distance(d, p_x)) for d in X_k]"
   ]
  },
  {
   "cell_type": "code",
   "execution_count": null,
   "metadata": {},
   "outputs": [],
   "source": []
  }
 ],
 "metadata": {
  "kernelspec": {
   "display_name": "Python 3",
   "language": "python",
   "name": "python3"
  },
  "language_info": {
   "codemirror_mode": {
    "name": "ipython",
    "version": 3
   },
   "file_extension": ".py",
   "mimetype": "text/x-python",
   "name": "python",
   "nbconvert_exporter": "python",
   "pygments_lexer": "ipython3",
   "version": "3.12.4"
  }
 },
 "nbformat": 4,
 "nbformat_minor": 2
}
