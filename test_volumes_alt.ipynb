{
 "cells": [
  {
   "cell_type": "code",
   "execution_count": 1,
   "metadata": {},
   "outputs": [
    {
     "name": "stderr",
     "output_type": "stream",
     "text": [
      "/Users/rayenebech/Desktop/rayene/phd_application/Helsinki/studies/Period_1/Introduction_to_data_science/proje-env/lib/python3.12/site-packages/sentence_transformers/cross_encoder/CrossEncoder.py:13: TqdmWarning: IProgress not found. Please update jupyter and ipywidgets. See https://ipywidgets.readthedocs.io/en/stable/user_install.html\n",
      "  from tqdm.autonotebook import tqdm, trange\n"
     ]
    }
   ],
   "source": [
    "import dash\n",
    "from dash import dcc, html\n",
    "from dash.dependencies import Input, Output, State, ALL\n",
    "import numpy as np\n",
    "import plotly.graph_objects as go\n",
    "import pandas as pd\n",
    "\n",
    "import matplotlib.pyplot as plt\n",
    "import json\n",
    "\n",
    "from helpers import fill_template, read_config, read_json, concat_output\n",
    "from inference import KnnClassifier\n",
    "\n",
    "\n",
    "config = read_config()\n",
    "model = KnnClassifier( visualization_method = \"tsne\", config = config )\n",
    "model.embedder.get_embeddings ## Compute the roles embeddings if not already in embeddings.txt file.\n",
    "df = model.embedder.get_initial_corrdinates()\n",
    "X = df[[\"x\",\"y\",\"z\"]].values\n",
    "labels = df[\"role_id\"].values\n",
    "titles = pd.read_csv(\"./data/roles_all_w_intern_wo_admin_w_title_wo_legal.csv\", index_col=0)[\"Title\"].values\n",
    "\n",
    "rol_to_id_dict = read_json(\"./data/role_to_id.json\")\n",
    "id_to_rol_dict =  dict((v,k) for k,v in rol_to_id_dict.items())"
   ]
  },
  {
   "cell_type": "code",
   "execution_count": 2,
   "metadata": {},
   "outputs": [],
   "source": [
    "with open('./data/suggestions.json', 'r') as f:\n",
    "    form_dict = json.load(f)\n",
    "\n",
    "## create a Div for each dropdown from the key and list of values from \n",
    "def group_from_json(key, values):\n",
    "    return html.Div([\n",
    "                html.Label(f\"{key}:\"),\n",
    "                dcc.Dropdown(id={'type': 'input-field', 'key': key}, \n",
    "                             options=[{'label': option, 'value': option} for option in values], multi=True, value=values[0]),\n",
    "                    ], className='form-group')\n",
    "\n",
    "divs = [group_from_json(key, values) for key, values in form_dict.items()]\n",
    "form = html.Div(divs, className='form-container')"
   ]
  },
  {
   "cell_type": "code",
   "execution_count": 3,
   "metadata": {},
   "outputs": [
    {
     "data": {
      "text/html": [
       "\n",
       "        <iframe\n",
       "            width=\"100%\"\n",
       "            height=\"650\"\n",
       "            src=\"http://127.0.0.1:8050/\"\n",
       "            frameborder=\"0\"\n",
       "            allowfullscreen\n",
       "            \n",
       "        ></iframe>\n",
       "        "
      ],
      "text/plain": [
       "<IPython.lib.display.IFrame at 0x299c26570>"
      ]
     },
     "metadata": {},
     "output_type": "display_data"
    },
    {
     "name": "stderr",
     "output_type": "stream",
     "text": [
      "Batches:   0%|          | 0/1 [00:00<?, ?it/s]/Users/rayenebech/Desktop/rayene/phd_application/Helsinki/studies/Period_1/Introduction_to_data_science/proje-env/lib/python3.12/site-packages/transformers/models/mpnet/modeling_mpnet.py:1051: UserWarning:\n",
      "\n",
      "cumsum_out_mps supported by MPS on MacOS 13+, please upgrade (Triggered internally at /Users/runner/work/pytorch/pytorch/pytorch/aten/src/ATen/native/mps/operations/UnaryOps.mm:452.)\n",
      "\n",
      "Batches: 100%|██████████| 1/1 [00:00<00:00,  4.29it/s]\n",
      "huggingface/tokenizers: The current process just got forked, after parallelism has already been used. Disabling parallelism to avoid deadlocks...\n",
      "To disable this warning, you can either:\n",
      "\t- Avoid using `tokenizers` before the fork if possible\n",
      "\t- Explicitly set the environment variable TOKENIZERS_PARALLELISM=(true | false)\n"
     ]
    },
    {
     "name": "stdout",
     "output_type": "stream",
     "text": [
      "Dimensionality Reduction with tsne took: 6.088313102722168\n",
      " encoding is: 23\n"
     ]
    },
    {
     "name": "stderr",
     "output_type": "stream",
     "text": [
      "Batches: 100%|██████████| 1/1 [00:00<00:00,  7.76it/s]\n"
     ]
    },
    {
     "name": "stdout",
     "output_type": "stream",
     "text": [
      "Dimensionality Reduction with tsne took: 5.839067220687866\n",
      " encoding is: 23\n"
     ]
    },
    {
     "name": "stderr",
     "output_type": "stream",
     "text": [
      "Batches: 100%|██████████| 1/1 [00:00<00:00,  8.79it/s]\n"
     ]
    },
    {
     "name": "stdout",
     "output_type": "stream",
     "text": [
      "Dimensionality Reduction with tsne took: 6.187201023101807\n",
      " encoding is: 23\n"
     ]
    },
    {
     "name": "stderr",
     "output_type": "stream",
     "text": [
      "Batches: 100%|██████████| 1/1 [00:00<00:00,  8.67it/s]\n"
     ]
    },
    {
     "name": "stdout",
     "output_type": "stream",
     "text": [
      "Dimensionality Reduction with tsne took: 6.297756910324097\n",
      " encoding is: 23\n"
     ]
    },
    {
     "name": "stderr",
     "output_type": "stream",
     "text": [
      "Batches: 100%|██████████| 1/1 [00:00<00:00,  6.71it/s]\n"
     ]
    },
    {
     "name": "stdout",
     "output_type": "stream",
     "text": [
      "Dimensionality Reduction with tsne took: 6.701954126358032\n",
      " encoding is: 23\n"
     ]
    },
    {
     "name": "stderr",
     "output_type": "stream",
     "text": [
      "Batches: 100%|██████████| 1/1 [00:00<00:00,  6.17it/s]\n"
     ]
    },
    {
     "name": "stdout",
     "output_type": "stream",
     "text": [
      "Dimensionality Reduction with tsne took: 6.092929840087891\n",
      " encoding is: 23\n"
     ]
    }
   ],
   "source": [
    "\n",
    "# Create the Dash app\n",
    "app = dash.Dash(__name__)\n",
    "\n",
    "# default params\n",
    "OPAC_DEF = 0.8\n",
    "\n",
    "# Color mapping\n",
    "CMAP = \"tab20\"\n",
    "\n",
    "# Cross size\n",
    "CROSS_SIZE = 25\n",
    "\n",
    "\n",
    "# Create a scatter plot given covariates X (n x 3) and labels y (n x 1)\n",
    "def create_figure(X, y, titles, id_to_rol_dict, p_x, probs_y):\n",
    "\n",
    "    # Array containing all the clusters and the user point\n",
    "    layers = []\n",
    "\n",
    "    # unique_labels = np.unique(y)\n",
    "    unique_labels = id_to_rol_dict.keys()\n",
    "\n",
    "    k = len(unique_labels)\n",
    "\n",
    "    # create an opacity mapping where higher predicted probability = higher opacity\n",
    "    if probs_y is not None:\n",
    "        preds_y = np.argsort(probs_y[0])[::-1]\n",
    "        p_y = preds_y[0]\n",
    "        vals = np.linspace(1, 0, k)\n",
    "        opac_map = dict(zip(preds_y, vals))\n",
    "    else:\n",
    "        p_y = None\n",
    "\n",
    "\n",
    "    # Using colormap from Matplotlib\n",
    "    color_palette = plt.get_cmap(CMAP)(np.linspace(0, 1, k)) \n",
    "    colors = [f'rgba({int(c[0] * 255)}, {int(c[1] * 255)}, {int(c[2] * 255)}, {c[3]})' for c in color_palette]\n",
    "\n",
    "\n",
    "    # Do not plot the user point on initialization\n",
    "    if p_x is not None:\n",
    "\n",
    "        user_point = go.Scatter3d(\n",
    "                    x=[p_x[0]], y=[p_x[1]], z=[p_x[2]], \n",
    "                    mode='markers', \n",
    "                    marker=dict(\n",
    "                        size=CROSS_SIZE,\n",
    "                        color=colors[p_y],\n",
    "                        symbol='cross'\n",
    "                        ),\n",
    "                    name=id_to_rol_dict[p_y],\n",
    "                    text=\"Predicted Category:\",\n",
    "                    hovertemplate='<b>%{fullData.text}</b><br>%{fullData.name}<extra></extra>',\n",
    "                    showlegend=False)\n",
    "        \n",
    "        layers.append(user_point)\n",
    "\n",
    "    # Create color-grouped scatter plots for each label in y\n",
    "    for label in unique_labels:\n",
    "\n",
    "        # select rows with corresponding label\n",
    "        X_k = X[y==label]\n",
    "\n",
    "        # titles should be input to function\n",
    "        titles_k = titles[y==label]\n",
    "\n",
    "        x_c, y_c, z_c  = X_k[:,0], X_k[:,1], X_k[:,2] \n",
    "\n",
    "\n",
    "        # default or mapped opacity\n",
    "        if p_y is not None:\n",
    "            opac = opac_map[label]\n",
    "            if probs_y[0][label] == 0:\n",
    "                prob = \"\"\n",
    "            else:\n",
    "                prob = f': {100 * probs_y[0][label]:.3f}%'\n",
    "        else:\n",
    "            opac = OPAC_DEF\n",
    "            prob = \"\"\n",
    "\n",
    "        c_val = colors[label]\n",
    "\n",
    "        # Scatter plot for points\n",
    "        scatter = go.Scatter3d(\n",
    "            x=x_c, y=y_c, z=z_c, \n",
    "            mode='markers', \n",
    "            marker=dict(size=4, color=c_val, opacity=opac),\n",
    "            name=f\"{id_to_rol_dict[label]} {prob}\",\n",
    "            text=titles_k,\n",
    "            hovertemplate='<b>%{fullData.name}</b><br>%{text}<extra></extra>',\n",
    "            legendgroup=id_to_rol_dict[label],\n",
    "            showlegend=False,\n",
    "        )\n",
    "        layers.append(scatter)\n",
    "\n",
    "    # Create figure\n",
    "    fig = go.Figure(data=layers)\n",
    "    fig.update_layout(paper_bgcolor='white',\n",
    "                      scene=dict(aspectmode='data',\n",
    "                                xaxis=dict(visible=False),\n",
    "                                yaxis=dict(visible=False),\n",
    "                                zaxis=dict(visible=False)),\n",
    "                      title=\"Job Sphere\",\n",
    "                    )\n",
    "\n",
    "    return fig\n",
    "\n",
    "# Layout of the app\n",
    "app.layout = html.Div([\n",
    "    html.Div([form,\n",
    "    html.Button('Submit', id='submit-button', n_clicks=0)], style={'width': '25%', 'float': 'left', 'padding': '10px'}),\n",
    "    html.Div([dcc.Graph(id='3d-scatter', figure=create_figure(X, labels, titles, id_to_rol_dict, None, None))],style={'width': '70%', 'float': 'right'})\n",
    "])\n",
    "\n",
    "@app.callback(\n",
    "    Output('3d-scatter', 'figure'),\n",
    "    Input('submit-button', 'n_clicks'),\n",
    "    # capture the input key-value pairs\n",
    "    State({'type': 'input-field', 'key': ALL}, 'value'),\n",
    "    State({'type': 'input-field', 'key': ALL}, 'id'),\n",
    "    State('3d-scatter', 'figure'),\n",
    "    prevent_initial_call=True,\n",
    ")\n",
    "def update_output(n_clicks, input_values, input_ids, prev_fig):\n",
    "    if n_clicks > 0:\n",
    "        if None not in input_values:\n",
    "            # Create a dictionary to hold form data based on the pattern-matched input fields\n",
    "            form_data = {input_id['key']: value for input_id, value in zip(input_ids, input_values)}\n",
    "\n",
    "            # Convert to JSON format\n",
    "            json_output = json.dumps(form_data, indent=4)\n",
    "            \n",
    "            # generate template using json_output\n",
    "            template = concat_output(form_data)\n",
    "            template_embedding = model.embedder.encode([template])\n",
    "            X, user_x = model.embedder.get_corrdinates(template_embedding) \n",
    "\n",
    "            probs_y = model.predict_proba(template_embedding)\n",
    "            preds_y = np.argsort(probs_y[0])[::-1]\n",
    "            user_y = preds_y[0]\n",
    "            print(f\" encoding is: {user_y}\")\n",
    "            # use template to generate embeddings (user_x) and predict probabilities for each label (pred_y))\n",
    "            # also generate X with reduced dimensions given the user input\n",
    "\n",
    "            fig = create_figure(X, labels, titles, id_to_rol_dict, user_x, probs_y)\n",
    "        else:\n",
    "            fig = prev_fig\n",
    "\n",
    "        return fig\n",
    "\n",
    "\n",
    "\n",
    "# Run the app\n",
    "if __name__ == '__main__':\n",
    "    app.run_server(debug=True, port=8050)\n"
   ]
  },
  {
   "cell_type": "code",
   "execution_count": null,
   "metadata": {},
   "outputs": [],
   "source": []
  },
  {
   "cell_type": "code",
   "execution_count": null,
   "metadata": {},
   "outputs": [],
   "source": []
  }
 ],
 "metadata": {
  "kernelspec": {
   "display_name": "Python 3",
   "language": "python",
   "name": "python3"
  },
  "language_info": {
   "codemirror_mode": {
    "name": "ipython",
    "version": 3
   },
   "file_extension": ".py",
   "mimetype": "text/x-python",
   "name": "python",
   "nbconvert_exporter": "python",
   "pygments_lexer": "ipython3",
   "version": "3.12.4"
  }
 },
 "nbformat": 4,
 "nbformat_minor": 2
}
