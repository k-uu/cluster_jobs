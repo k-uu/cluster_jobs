{
 "cells": [
  {
   "cell_type": "code",
   "execution_count": 3,
   "metadata": {},
   "outputs": [],
   "source": [
    "!pip install --quiet openai tiktoken"
   ]
  },
  {
   "cell_type": "markdown",
   "metadata": {},
   "source": [
    "# Compute the cost"
   ]
  },
  {
   "cell_type": "code",
   "execution_count": 12,
   "metadata": {},
   "outputs": [
    {
     "name": "stdout",
     "output_type": "stream",
     "text": [
      "gpt4-o mini:  0.0161319\n",
      "gpt4-o:  0.268865\n"
     ]
    }
   ],
   "source": []
  },
  {
   "cell_type": "markdown",
   "metadata": {},
   "source": [
    "# Transform the data"
   ]
  },
  {
   "cell_type": "code",
   "execution_count": 1,
   "metadata": {},
   "outputs": [
    {
     "name": "stdout",
     "output_type": "stream",
     "text": [
      "\n",
      "We are seeking a professional with 5 years of experience, Master's degree, possessing Python, Machine Learning, Data Analysis and TensorFlow, Scikit-learn. \n",
      "This role requires the ability to develop AI models, optimize algorithms, with excellent communication, problem-solving. \n",
      "Familiarity with healthcare, finance, and the capability to [Additional Responsibilities/Expectations] is preferred.\n",
      "\n"
     ]
    }
   ],
   "source": [
    "def fill_template(template, input_dict):\n",
    "    \"\"\"\n",
    "    Fills the given template with values from the input_dict.\n",
    "    \n",
    "    Parameters:\n",
    "    template (str): The template to fill in.\n",
    "    input_dict (dict): A dictionary containing lists of values or None for each placeholder in the template.\n",
    "    \n",
    "    Returns:\n",
    "    str: The template with placeholders filled in.\n",
    "    \"\"\"\n",
    "    for key, value in input_dict.items():\n",
    "        if value:  # if value is a list and not empty\n",
    "            replacement = ', '.join(value)\n",
    "        else:  # if value is None or an empty list\n",
    "            replacement = f\"[{key}]\"\n",
    "        \n",
    "        # Replace the placeholder in the template\n",
    "        template = template.replace(f\"[{key}]\", replacement)\n",
    "    \n",
    "    return template\n",
    "\n",
    "# Example usage\n",
    "template = \"\"\"\n",
    "We are seeking a professional with [Experience/Qualifications], possessing [Skills] and [Tools/Technologies]. \n",
    "This role requires the ability to [Responsibilities/Expectations], with excellent [Soft Skills]. \n",
    "Familiarity with [Industry/Fields], and the capability to [Additional Responsibilities/Expectations] is preferred.\n",
    "\"\"\"\n",
    "\n",
    "input_data = {\n",
    "    \"Experience/Qualifications\": [\"5 years of experience\", \"Master's degree\"],\n",
    "    \"Skills\": [\"Python\", \"Machine Learning\", \"Data Analysis\"],\n",
    "    \"Tools/Technologies\": [\"TensorFlow\", \"Scikit-learn\"],\n",
    "    \"Responsibilities/Expectations\": [\"develop AI models\", \"optimize algorithms\"],\n",
    "    \"Soft Skills\": [\"communication\", \"problem-solving\"],\n",
    "    \"Industry/Fields\": [\"healthcare\", \"finance\"],\n",
    "    \"Additional Responsibilities/Expectations\": None\n",
    "}\n",
    "\n",
    "filled_template = fill_template(template, input_data)\n",
    "print(filled_template)\n"
   ]
  },
  {
   "cell_type": "code",
   "execution_count": null,
   "metadata": {},
   "outputs": [],
   "source": []
  }
 ],
 "metadata": {
  "kernelspec": {
   "display_name": "proje-env",
   "language": "python",
   "name": "python3"
  },
  "language_info": {
   "codemirror_mode": {
    "name": "ipython",
    "version": 3
   },
   "file_extension": ".py",
   "mimetype": "text/x-python",
   "name": "python",
   "nbconvert_exporter": "python",
   "pygments_lexer": "ipython3",
   "version": "3.12.5"
  }
 },
 "nbformat": 4,
 "nbformat_minor": 2
}
